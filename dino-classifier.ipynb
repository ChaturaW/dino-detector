{
 "cells": [
  {
   "cell_type": "code",
   "execution_count": 24,
   "id": "41b7a1ca",
   "metadata": {},
   "outputs": [],
   "source": [
    "import tensorflow as tf\n",
    "from tensorflow import keras\n",
    "import numpy as np"
   ]
  },
  {
   "cell_type": "code",
   "execution_count": 3,
   "id": "34b82982",
   "metadata": {},
   "outputs": [],
   "source": [
    "loaded_model = tf.keras.models.load_model('./saved')"
   ]
  },
  {
   "cell_type": "code",
   "execution_count": 66,
   "id": "0825903c",
   "metadata": {},
   "outputs": [],
   "source": [
    "img = keras.preprocessing.image.load_img(\n",
    "    'Test/20210515_224626.jpg', target_size=(216, 216)\n",
    ")"
   ]
  },
  {
   "cell_type": "code",
   "execution_count": 67,
   "id": "0601dba0",
   "metadata": {},
   "outputs": [],
   "source": [
    "img.show()"
   ]
  },
  {
   "cell_type": "code",
   "execution_count": 68,
   "id": "bfc3af99",
   "metadata": {},
   "outputs": [],
   "source": [
    "img_arr = keras.preprocessing.image.img_to_array(img)"
   ]
  },
  {
   "cell_type": "code",
   "execution_count": 69,
   "id": "5ac7ca2d",
   "metadata": {},
   "outputs": [],
   "source": [
    "img_arr = tf.expand_dims(img_arr, 0)"
   ]
  },
  {
   "cell_type": "code",
   "execution_count": 70,
   "id": "e2a85778",
   "metadata": {},
   "outputs": [
    {
     "name": "stdout",
     "output_type": "stream",
     "text": [
      "tf.Tensor(\n",
      "[[[[187. 163. 117.]\n",
      "   [181. 157. 109.]\n",
      "   [182. 155. 108.]\n",
      "   ...\n",
      "   [191. 171. 134.]\n",
      "   [190. 170. 137.]\n",
      "   [189. 169. 144.]]\n",
      "\n",
      "  [[184. 160. 116.]\n",
      "   [183. 159. 115.]\n",
      "   [187. 163. 117.]\n",
      "   ...\n",
      "   [192. 170. 133.]\n",
      "   [194. 171. 137.]\n",
      "   [186. 163. 129.]]\n",
      "\n",
      "  [[182. 157. 117.]\n",
      "   [183. 159. 115.]\n",
      "   [182. 158. 114.]\n",
      "   ...\n",
      "   [191. 168. 134.]\n",
      "   [191. 168. 134.]\n",
      "   [189. 166. 132.]]\n",
      "\n",
      "  ...\n",
      "\n",
      "  [[199. 179. 142.]\n",
      "   [203. 183. 146.]\n",
      "   [205. 185. 148.]\n",
      "   ...\n",
      "   [205. 185. 150.]\n",
      "   [206. 186. 151.]\n",
      "   [203. 183. 148.]]\n",
      "\n",
      "  [[197. 177. 140.]\n",
      "   [202. 182. 145.]\n",
      "   [199. 179. 142.]\n",
      "   ...\n",
      "   [206. 186. 151.]\n",
      "   [204. 184. 149.]\n",
      "   [201. 181. 144.]]\n",
      "\n",
      "  [[202. 182. 145.]\n",
      "   [209. 189. 152.]\n",
      "   [201. 181. 144.]\n",
      "   ...\n",
      "   [203. 183. 148.]\n",
      "   [199. 179. 144.]\n",
      "   [205. 185. 150.]]]], shape=(1, 216, 216, 3), dtype=float32)\n"
     ]
    }
   ],
   "source": [
    "print(img_arr)"
   ]
  },
  {
   "cell_type": "code",
   "execution_count": 71,
   "id": "4b7e8ab4",
   "metadata": {},
   "outputs": [],
   "source": [
    "predictions = loaded_model.predict(img_arr)"
   ]
  },
  {
   "cell_type": "code",
   "execution_count": 72,
   "id": "e2ca5dc4",
   "metadata": {},
   "outputs": [
    {
     "name": "stdout",
     "output_type": "stream",
     "text": [
      "[[4.0696664 8.649735 ]]\n"
     ]
    }
   ],
   "source": [
    "print(predictions)"
   ]
  },
  {
   "cell_type": "code",
   "execution_count": 73,
   "id": "a4910f06",
   "metadata": {},
   "outputs": [
    {
     "name": "stdout",
     "output_type": "stream",
     "text": [
      "This is a Trex with a 98.98 percent confidence\n"
     ]
    }
   ],
   "source": [
    "class_names = ['Brachiosaurus', 'Trex']\n",
    "score = tf.nn.softmax(predictions[0])\n",
    "print(\"This is a {} with a {:.2f} percent confidence\".format(class_names[np.argmax(score)], 100*np.max(score)))"
   ]
  },
  {
   "cell_type": "code",
   "execution_count": null,
   "id": "51ac937c",
   "metadata": {},
   "outputs": [],
   "source": []
  }
 ],
 "metadata": {
  "kernelspec": {
   "display_name": "Python 3",
   "language": "python",
   "name": "python3"
  },
  "language_info": {
   "codemirror_mode": {
    "name": "ipython",
    "version": 3
   },
   "file_extension": ".py",
   "mimetype": "text/x-python",
   "name": "python",
   "nbconvert_exporter": "python",
   "pygments_lexer": "ipython3",
   "version": "3.8.9"
  }
 },
 "nbformat": 4,
 "nbformat_minor": 5
}
