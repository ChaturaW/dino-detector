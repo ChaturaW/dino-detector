{
 "cells": [
  {
   "cell_type": "code",
   "execution_count": 24,
   "id": "41b7a1ca",
   "metadata": {},
   "outputs": [],
   "source": [
    "import tensorflow as tf\n",
    "from tensorflow import keras\n",
    "import numpy as np"
   ]
  },
  {
   "cell_type": "code",
   "execution_count": 3,
   "id": "34b82982",
   "metadata": {},
   "outputs": [],
   "source": [
    "loaded_model = tf.keras.models.load_model('./saved')"
   ]
  },
  {
   "cell_type": "code",
   "execution_count": 34,
   "id": "0825903c",
   "metadata": {},
   "outputs": [],
   "source": [
    "img = keras.preprocessing.image.load_img(\n",
    "    'Test/20210515_195922.jpg', target_size=(216, 216)\n",
    ")"
   ]
  },
  {
   "cell_type": "code",
   "execution_count": 35,
   "id": "c89dfd7a",
   "metadata": {},
   "outputs": [],
   "source": [
    "img.show()"
   ]
  },
  {
   "cell_type": "code",
   "execution_count": 36,
   "id": "55a5a975",
   "metadata": {},
   "outputs": [],
   "source": [
    "img_arr = keras.preprocessing.image.img_to_array(img)"
   ]
  },
  {
   "cell_type": "code",
   "execution_count": 37,
   "id": "d6f9416e",
   "metadata": {},
   "outputs": [],
   "source": [
    "img_arr = tf.expand_dims(img_arr, 0)"
   ]
  },
  {
   "cell_type": "code",
   "execution_count": 38,
   "id": "c0d974fe",
   "metadata": {},
   "outputs": [
    {
     "name": "stdout",
     "output_type": "stream",
     "text": [
      "tf.Tensor(\n",
      "[[[[ 67.  49.   3.]\n",
      "   [ 84.  63.  16.]\n",
      "   [ 79.  55.  11.]\n",
      "   ...\n",
      "   [251. 243. 222.]\n",
      "   [251. 243. 222.]\n",
      "   [254. 246. 225.]]\n",
      "\n",
      "  [[ 77.  49.   9.]\n",
      "   [ 82.  54.  15.]\n",
      "   [ 74.  46.   7.]\n",
      "   ...\n",
      "   [253. 245. 224.]\n",
      "   [252. 244. 223.]\n",
      "   [254. 246. 225.]]\n",
      "\n",
      "  [[ 36.  11.   0.]\n",
      "   [ 59.  33.   0.]\n",
      "   [ 66.  37.   5.]\n",
      "   ...\n",
      "   [254. 246. 225.]\n",
      "   [251. 243. 222.]\n",
      "   [250. 242. 221.]]\n",
      "\n",
      "  ...\n",
      "\n",
      "  [[151. 118.  73.]\n",
      "   [151. 118.  73.]\n",
      "   [149. 116.  73.]\n",
      "   ...\n",
      "   [219. 202. 159.]\n",
      "   [213. 196. 152.]\n",
      "   [215. 198. 154.]]\n",
      "\n",
      "  [[151. 118.  75.]\n",
      "   [154. 121.  78.]\n",
      "   [150. 117.  74.]\n",
      "   ...\n",
      "   [218. 201. 158.]\n",
      "   [217. 200. 157.]\n",
      "   [218. 203. 160.]]\n",
      "\n",
      "  [[153. 120.  75.]\n",
      "   [152. 119.  76.]\n",
      "   [151. 118.  75.]\n",
      "   ...\n",
      "   [219. 202. 159.]\n",
      "   [219. 202. 159.]\n",
      "   [220. 203. 160.]]]], shape=(1, 216, 216, 3), dtype=float32)\n"
     ]
    }
   ],
   "source": [
    "print(img_arr)"
   ]
  },
  {
   "cell_type": "code",
   "execution_count": 39,
   "id": "dbc41f84",
   "metadata": {},
   "outputs": [],
   "source": [
    "predictions = loaded_model.predict(img_arr)"
   ]
  },
  {
   "cell_type": "code",
   "execution_count": 40,
   "id": "a25e402a",
   "metadata": {},
   "outputs": [
    {
     "name": "stdout",
     "output_type": "stream",
     "text": [
      "[[6.956646  6.1796207]]\n"
     ]
    }
   ],
   "source": [
    "print(predictions)"
   ]
  },
  {
   "cell_type": "code",
   "execution_count": 41,
   "id": "0b8e56ff",
   "metadata": {},
   "outputs": [
    {
     "name": "stdout",
     "output_type": "stream",
     "text": [
      "This is a Brachiosaurus with a 68.50 percent confidence\n"
     ]
    }
   ],
   "source": [
    "class_names = ['Brachiosaurus', 'Trex']\n",
    "score = tf.nn.softmax(predictions[0])\n",
    "print(\"This is a {} with a {:.2f} percent confidence\".format(class_names[np.argmax(score)], 100*np.max(score)))"
   ]
  },
  {
   "cell_type": "code",
   "execution_count": null,
   "id": "bbfcc2a9",
   "metadata": {},
   "outputs": [],
   "source": []
  }
 ],
 "metadata": {
  "kernelspec": {
   "display_name": "Python 3",
   "language": "python",
   "name": "python3"
  },
  "language_info": {
   "codemirror_mode": {
    "name": "ipython",
    "version": 3
   },
   "file_extension": ".py",
   "mimetype": "text/x-python",
   "name": "python",
   "nbconvert_exporter": "python",
   "pygments_lexer": "ipython3",
   "version": "3.8.9"
  }
 },
 "nbformat": 4,
 "nbformat_minor": 5
}
